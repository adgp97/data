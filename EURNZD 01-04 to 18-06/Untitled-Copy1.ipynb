{
 "cells": [
  {
   "cell_type": "code",
   "execution_count": 1,
   "metadata": {},
   "outputs": [],
   "source": [
    "import pickle\n",
    "import pprint\n",
    "import json\n",
    "import time\n",
    "import pandas as pd"
   ]
  },
  {
   "cell_type": "markdown",
   "metadata": {},
   "source": [
    "# Load Log"
   ]
  },
  {
   "cell_type": "code",
   "execution_count": null,
   "metadata": {},
   "outputs": [],
   "source": [
    "# with open('EURUSD 01-04 to 18-06.txt', 'rb') as f:\n",
    "#     logs = pickle.load(f)"
   ]
  },
  {
   "cell_type": "code",
   "execution_count": null,
   "metadata": {},
   "outputs": [],
   "source": [
    "# out = open(\"EURUSD 01-04 to 18-06 websocket data.txt\", \"wt\", encoding='utf-8')\n",
    "\n",
    "# for log in logs:\n",
    "    \n",
    "#     for event in log:\n",
    "\n",
    "#         x = json.loads(event[\"message\"])[\"message\"]\n",
    "#         if \"Network.webSocketFrameReceived\" in x[\"method\"] or \"Network.webSocketFrameSent\" in x[\"method\"]:\n",
    "#             pprint.pprint(x, stream=out)\n",
    "        \n",
    "# out.close()"
   ]
  },
  {
   "cell_type": "code",
   "execution_count": 2,
   "metadata": {},
   "outputs": [],
   "source": [
    "# Utils\n",
    "\n",
    "def split_sent_received(file):\n",
    "    sent = []\n",
    "    received = []\n",
    "    for event in file:\n",
    "        x = json.loads(event[\"message\"])[\"message\"]\n",
    "        if \"Network.webSocketFrameReceived\" in x[\"method\"]: \n",
    "            received.append(json.loads(x[\"params\"][\"response\"][\"payloadData\"]))\n",
    "        elif \"Network.webSocketFrameSent\" in x[\"method\"]:\n",
    "            sent.append(json.loads(x[\"params\"][\"response\"][\"payloadData\"]))\n",
    "    return sent, received\n",
    "\n",
    "def search_by_name(list, keys):\n",
    "    l = [element for element in list if element[\"name\"] in keys]\n",
    "    return l\n",
    "\n",
    "def get_request_ids(list):\n",
    "    d = {}\n",
    "    for element in list:\n",
    "        if element[\"name\"] == \"sendMessage\" and element[\"msg\"][\"name\"] == \"get-candles\":\n",
    "            d[element[\"request_id\"]] = {\n",
    "                \"active_id\": element[\"msg\"][\"body\"][\"active_id\"],\n",
    "                \"size\": element[\"msg\"][\"body\"][\"size\"],\n",
    "            }\n",
    "    return d\n",
    "\n",
    "def get_candles(list):\n",
    "    candles_dict = {}\n",
    "    for element in list:\n",
    "        if element[\"name\"] == \"candles\":\n",
    "            try:\n",
    "                candles_dict[element[\"request_id\"]] = pd.DataFrame(element[\"msg\"][\"candles\"]).set_index(\"id\")\n",
    "            except:\n",
    "                print(element)\n",
    "    return candles_dict\n",
    "\n",
    "def fill_assets_dict(request_ids, candles):\n",
    "    from tqdm.notebook import tqdm\n",
    "    assets = {}\n",
    "    for request_id in tqdm(request_ids):\n",
    "        active_id = request_ids[request_id]['active_id']\n",
    "        size = request_ids[request_id][\"size\"]\n",
    "\n",
    "        if active_id not in assets.keys():\n",
    "            try:\n",
    "                assets[active_id] = {\n",
    "                    'name': binary_op_ids[active_id],\n",
    "                    'data': {}\n",
    "                }\n",
    "            except:\n",
    "                assets[active_id] = {\n",
    "                    'name': '',\n",
    "                    'data': {}\n",
    "                }\n",
    "        try:\n",
    "            index = pd.MultiIndex.from_product([[size], candles[request_id].index.to_numpy()], names=['size', 'id'])\n",
    "            candle = candles[request_id].set_index(index)\n",
    "        except KeyError:\n",
    "            print(\"KeyError:\", request_id)\n",
    "            \n",
    "        if isinstance(assets[active_id][\"data\"], pd.DataFrame):\n",
    "            assets[active_id][\"data\"] = assets[active_id][\"data\"].merge(candle, how='outer', on=candle.columns.values.tolist(), left_index=True, right_index=True)\n",
    "        else:\n",
    "            assets[active_id][\"data\"] = candle\n",
    "    \n",
    "    for key in assets:\n",
    "        assets[key]['data'] = assets[key]['data'].sort_index()\n",
    "    \n",
    "    return assets\n",
    "\n",
    "# def get_last_candle_gen(candle_generated_list):\n",
    "#     # Get the last candle generated of a given id\n",
    "    \n",
    "#     assets = {}\n",
    "\n",
    "#     for element in candle_generated_list:\n",
    "        \n",
    "#         active_id = element['msg']['active_id']\n",
    "#         id_ = element['msg']['id']\n",
    "        \n",
    "#         candle_dict = {\n",
    "#             'size': element['msg']['size'],\n",
    "#             'from': element['msg']['from'],\n",
    "#             'to': element['msg']['to'],\n",
    "#             'open': element['msg']['open'],\n",
    "#             'close': element['msg']['close'],\n",
    "#             'min': element['msg']['min'],\n",
    "#             'max': element['msg']['max'],\n",
    "#             'volume': element['msg']['volume'],\n",
    "#         } \n",
    "    \n",
    "    \n",
    "#         if active_id not in assets.keys():\n",
    "#             assets[active_id] = {\n",
    "#                 'data': {id_: candle_dict}\n",
    "#             }\n",
    "#         else:\n",
    "#             assets[active_id]['data'][id_] = candle_dict\n",
    "            \n",
    "#     cols = ['size', 'from', 'to', 'open', 'close', 'min', 'max', 'volume']\n",
    "    \n",
    "#     for key in assets.keys():\n",
    "        \n",
    "#         df = assets[key]['data']\n",
    "#         df = pd.DataFrame.from_dict(df, orient='index', columns=cols).reset_index()\n",
    "#         index = pd.MultiIndex.from_frame(df[['size', 'index']], names=['size', 'id'])\n",
    "#         assets[key]['data'] = df.set_index(index).drop(['index', 'size'], axis=1)\n",
    "        \n",
    "#     return assets"
   ]
  },
  {
   "cell_type": "code",
   "execution_count": 3,
   "metadata": {},
   "outputs": [],
   "source": [
    "with open(\"EURNZD 01-04 to 18-06.txt\", \"rb\") as f:\n",
    "    l = pickle.load(f)\n",
    "    \n",
    "sent_list = []\n",
    "received_list = []\n",
    "for element in l:\n",
    "    \n",
    "    sent, received = split_sent_received(element)\n",
    "    sent_list.append(sent)\n",
    "    received_list.append(received)\n",
    "\n",
    "sent_list2 = [element2 for element in sent_list for element2 in element]\n",
    "received_list2 = [element2 for element in received_list for element2 in element]\n",
    "sent_list = sent_list2\n",
    "received_list = received_list2\n",
    "del l, sent_list2, received_list2, sent, received"
   ]
  },
  {
   "cell_type": "markdown",
   "metadata": {},
   "source": [
    "# Handling candles"
   ]
  },
  {
   "cell_type": "code",
   "execution_count": 4,
   "metadata": {},
   "outputs": [
    {
     "data": {
      "text/plain": [
       "(0.010987520217895508, 12.412444829940796)"
      ]
     },
     "execution_count": 4,
     "metadata": {},
     "output_type": "execute_result"
    }
   ],
   "source": [
    "# Get request_ids \n",
    "start = time.time()\n",
    "request_id_list = get_request_ids(sent_list)\n",
    "dt1 = time.time() - start\n",
    "\n",
    "# Get the data\n",
    "start = time.time()\n",
    "get_candles_list = get_candles(received_list)   \n",
    "dt2 = time.time() - start\n",
    "dt1, dt2"
   ]
  },
  {
   "cell_type": "code",
   "execution_count": 5,
   "metadata": {},
   "outputs": [
    {
     "data": {
      "application/vnd.jupyter.widget-view+json": {
       "model_id": "86d7c834a48446179cd74ced501a2368",
       "version_major": 2,
       "version_minor": 0
      },
      "text/plain": [
       "  0%|          | 0/5302 [00:00<?, ?it/s]"
      ]
     },
     "metadata": {},
     "output_type": "display_data"
    },
    {
     "data": {
      "text/plain": [
       "21.972699193159738"
      ]
     },
     "execution_count": 5,
     "metadata": {},
     "output_type": "execute_result"
    }
   ],
   "source": [
    "binary_op_ids = { 7: 'AUDCAD', 943: 'AUDCHF', 101: 'AUDJPY', 944: 'AUDNZD', 99: 'AUDUSD', 107: 'CADCHF',\n",
    "                106: 'CHFJPY', 108: 'EURAUD', 2: 'EURGBP', 4: 'EURJPY', 212: 'EURNZD', 1: 'EURUSD',\n",
    "                104: 'GBPAUD', 102: 'GBPCAD', 103: 'GBPCHF', 3: 'GBPJPY', 947: 'GBPNZD', 5: 'GBPUSD', 8: 'NZDUSD',\n",
    "                100: 'USDCAD', 72: 'USDCHF', 6: 'USDJPY', 168: 'USDNOK'}\n",
    "\n",
    "# fill the assets dict\n",
    "start = time.time()\n",
    "assets = fill_assets_dict(request_id_list, get_candles_list)\n",
    "dt3 = time.time() - start\n",
    "dt3/60"
   ]
  },
  {
   "cell_type": "code",
   "execution_count": null,
   "metadata": {},
   "outputs": [],
   "source": []
  },
  {
   "cell_type": "code",
   "execution_count": 6,
   "metadata": {},
   "outputs": [
    {
     "data": {
      "text/plain": [
       "dict_keys([1, 212])"
      ]
     },
     "execution_count": 6,
     "metadata": {},
     "output_type": "execute_result"
    }
   ],
   "source": [
    "assets.keys()"
   ]
  },
  {
   "cell_type": "code",
   "execution_count": 8,
   "metadata": {},
   "outputs": [],
   "source": [
    "assets[212]['data'].to_csv('EURNZD.csv')"
   ]
  },
  {
   "cell_type": "code",
   "execution_count": null,
   "metadata": {},
   "outputs": [],
   "source": []
  },
  {
   "cell_type": "code",
   "execution_count": null,
   "metadata": {},
   "outputs": [],
   "source": []
  },
  {
   "cell_type": "code",
   "execution_count": null,
   "metadata": {},
   "outputs": [],
   "source": []
  },
  {
   "cell_type": "code",
   "execution_count": null,
   "metadata": {},
   "outputs": [],
   "source": []
  }
 ],
 "metadata": {
  "kernelspec": {
   "display_name": "Python 3",
   "language": "python",
   "name": "python3"
  },
  "language_info": {
   "codemirror_mode": {
    "name": "ipython",
    "version": 3
   },
   "file_extension": ".py",
   "mimetype": "text/x-python",
   "name": "python",
   "nbconvert_exporter": "python",
   "pygments_lexer": "ipython3",
   "version": "3.7.4"
  }
 },
 "nbformat": 4,
 "nbformat_minor": 2
}
