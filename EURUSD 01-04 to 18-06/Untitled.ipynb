{
 "cells": [
  {
   "cell_type": "code",
   "execution_count": 1,
   "metadata": {},
   "outputs": [],
   "source": [
    "import pickle\n",
    "import pprint\n",
    "import json\n",
    "import time\n",
    "import pandas as pd"
   ]
  },
  {
   "cell_type": "markdown",
   "metadata": {},
   "source": [
    "# Load Log"
   ]
  },
  {
   "cell_type": "code",
   "execution_count": null,
   "metadata": {},
   "outputs": [],
   "source": [
    "# with open('EURUSD 01-04 to 18-06.txt', 'rb') as f:\n",
    "#     logs = pickle.load(f)"
   ]
  },
  {
   "cell_type": "code",
   "execution_count": null,
   "metadata": {},
   "outputs": [],
   "source": [
    "# out = open(\"EURUSD 01-04 to 18-06 websocket data.txt\", \"wt\", encoding='utf-8')\n",
    "\n",
    "# for log in logs:\n",
    "    \n",
    "#     for event in log:\n",
    "\n",
    "#         x = json.loads(event[\"message\"])[\"message\"]\n",
    "#         if \"Network.webSocketFrameReceived\" in x[\"method\"] or \"Network.webSocketFrameSent\" in x[\"method\"]:\n",
    "#             pprint.pprint(x, stream=out)\n",
    "        \n",
    "# out.close()"
   ]
  },
  {
   "cell_type": "code",
   "execution_count": 30,
   "metadata": {},
   "outputs": [],
   "source": [
    "# Utils\n",
    "\n",
    "def split_sent_received(file):\n",
    "    sent = []\n",
    "    received = []\n",
    "    for event in file:\n",
    "        x = json.loads(event[\"message\"])[\"message\"]\n",
    "        if \"Network.webSocketFrameReceived\" in x[\"method\"]: \n",
    "            received.append(json.loads(x[\"params\"][\"response\"][\"payloadData\"]))\n",
    "        elif \"Network.webSocketFrameSent\" in x[\"method\"]:\n",
    "            sent.append(json.loads(x[\"params\"][\"response\"][\"payloadData\"]))\n",
    "    return sent, received\n",
    "\n",
    "def search_by_name(list, keys):\n",
    "    l = [element for element in list if element[\"name\"] in keys]\n",
    "    return l\n",
    "\n",
    "def get_request_ids(list):\n",
    "    d = {}\n",
    "    for element in list:\n",
    "        if element[\"name\"] == \"sendMessage\" and element[\"msg\"][\"name\"] == \"get-candles\":\n",
    "            d[element[\"request_id\"]] = {\n",
    "                \"active_id\": element[\"msg\"][\"body\"][\"active_id\"],\n",
    "                \"size\": element[\"msg\"][\"body\"][\"size\"],\n",
    "            }\n",
    "    return d\n",
    "\n",
    "def get_candles(list):\n",
    "    candles_dict = {}\n",
    "    for element in list:\n",
    "        if element[\"name\"] == \"candles\":\n",
    "            try:\n",
    "                candles_dict[element[\"request_id\"]] = pd.DataFrame(element[\"msg\"][\"candles\"]).set_index(\"id\")\n",
    "            except:\n",
    "                print(element)\n",
    "    return candles_dict\n",
    "\n",
    "def fill_assets_dict(request_ids, candles):\n",
    "    from tqdm.notebook import tqdm\n",
    "    assets = {}\n",
    "    for request_id in tqdm(request_ids):\n",
    "        active_id = request_ids[request_id]['active_id']\n",
    "        size = request_ids[request_id][\"size\"]\n",
    "\n",
    "        if active_id not in assets.keys():\n",
    "            try:\n",
    "                assets[active_id] = {\n",
    "                    'name': binary_op_ids[active_id],\n",
    "                    'data': {}\n",
    "                }\n",
    "            except:\n",
    "                assets[active_id] = {\n",
    "                    'name': '',\n",
    "                    'data': {}\n",
    "                }\n",
    "        try:\n",
    "            index = pd.MultiIndex.from_product([[size], candles[request_id].index.to_numpy()], names=['size', 'id'])\n",
    "            candle = candles[request_id].set_index(index)\n",
    "        except KeyError:\n",
    "            print(\"KeyError:\", request_id)\n",
    "            \n",
    "        if isinstance(assets[active_id][\"data\"], pd.DataFrame):\n",
    "            assets[active_id][\"data\"] = assets[active_id][\"data\"].merge(candle, how='outer', on=candle.columns.values.tolist(), left_index=True, right_index=True)\n",
    "        else:\n",
    "            assets[active_id][\"data\"] = candle\n",
    "    \n",
    "    for key in assets:\n",
    "        assets[key]['data'] = assets[key]['data'].sort_index()\n",
    "    \n",
    "    return assets\n",
    "\n",
    "# def get_last_candle_gen(candle_generated_list):\n",
    "#     # Get the last candle generated of a given id\n",
    "    \n",
    "#     assets = {}\n",
    "\n",
    "#     for element in candle_generated_list:\n",
    "        \n",
    "#         active_id = element['msg']['active_id']\n",
    "#         id_ = element['msg']['id']\n",
    "        \n",
    "#         candle_dict = {\n",
    "#             'size': element['msg']['size'],\n",
    "#             'from': element['msg']['from'],\n",
    "#             'to': element['msg']['to'],\n",
    "#             'open': element['msg']['open'],\n",
    "#             'close': element['msg']['close'],\n",
    "#             'min': element['msg']['min'],\n",
    "#             'max': element['msg']['max'],\n",
    "#             'volume': element['msg']['volume'],\n",
    "#         } \n",
    "    \n",
    "    \n",
    "#         if active_id not in assets.keys():\n",
    "#             assets[active_id] = {\n",
    "#                 'data': {id_: candle_dict}\n",
    "#             }\n",
    "#         else:\n",
    "#             assets[active_id]['data'][id_] = candle_dict\n",
    "            \n",
    "#     cols = ['size', 'from', 'to', 'open', 'close', 'min', 'max', 'volume']\n",
    "    \n",
    "#     for key in assets.keys():\n",
    "        \n",
    "#         df = assets[key]['data']\n",
    "#         df = pd.DataFrame.from_dict(df, orient='index', columns=cols).reset_index()\n",
    "#         index = pd.MultiIndex.from_frame(df[['size', 'index']], names=['size', 'id'])\n",
    "#         assets[key]['data'] = df.set_index(index).drop(['index', 'size'], axis=1)\n",
    "        \n",
    "#     return assets"
   ]
  },
  {
   "cell_type": "code",
   "execution_count": 3,
   "metadata": {},
   "outputs": [],
   "source": [
    "with open(\"EURUSD 01-04 to 18-06.txt\", \"rb\") as f:\n",
    "    l = pickle.load(f)\n",
    "    \n",
    "sent_list = []\n",
    "received_list = []\n",
    "for element in l:\n",
    "    \n",
    "    sent, received = split_sent_received(element)\n",
    "    sent_list.append(sent)\n",
    "    received_list.append(received)\n",
    "\n",
    "sent_list2 = [element2 for element in sent_list for element2 in element]\n",
    "received_list2 = [element2 for element in received_list for element2 in element]\n",
    "sent_list = sent_list2\n",
    "received_list = received_list2\n",
    "del l, sent_list2, received_list2, sent, received"
   ]
  },
  {
   "cell_type": "markdown",
   "metadata": {},
   "source": [
    "# Handling candles"
   ]
  },
  {
   "cell_type": "code",
   "execution_count": 4,
   "metadata": {},
   "outputs": [
    {
     "name": "stdout",
     "output_type": "stream",
     "text": [
      "{'request_id': '148', 'name': 'candles', 'msg': {'candles': []}, 'status': 2000}\n",
      "{'request_id': '149', 'name': 'candles', 'msg': {'candles': []}, 'status': 2000}\n"
     ]
    },
    {
     "data": {
      "text/plain": [
       "(0.0069980621337890625, 8.73944354057312)"
      ]
     },
     "execution_count": 4,
     "metadata": {},
     "output_type": "execute_result"
    }
   ],
   "source": [
    "# Get request_ids \n",
    "start = time.time()\n",
    "request_id_list = get_request_ids(sent_list)\n",
    "dt1 = time.time() - start\n",
    "\n",
    "# Get the data\n",
    "start = time.time()\n",
    "get_candles_list = get_candles(received_list)   \n",
    "dt2 = time.time() - start\n",
    "dt1, dt2"
   ]
  },
  {
   "cell_type": "code",
   "execution_count": 31,
   "metadata": {},
   "outputs": [
    {
     "data": {
      "application/vnd.jupyter.widget-view+json": {
       "model_id": "b8544382c5084038ae346cb7e9eeb42e",
       "version_major": 2,
       "version_minor": 0
      },
      "text/plain": [
       "  0%|          | 0/4620 [00:00<?, ?it/s]"
      ]
     },
     "metadata": {},
     "output_type": "display_data"
    },
    {
     "name": "stdout",
     "output_type": "stream",
     "text": [
      "KeyError: 148\n",
      "KeyError: 149\n"
     ]
    },
    {
     "data": {
      "text/plain": [
       "18.848716135025025"
      ]
     },
     "execution_count": 31,
     "metadata": {},
     "output_type": "execute_result"
    }
   ],
   "source": [
    "binary_op_ids = { 7: 'AUDCAD', 943: 'AUDCHF', 101: 'AUDJPY', 944: 'AUDNZD', 99: 'AUDUSD', 107: 'CADCHF',\n",
    "                106: 'CHFJPY', 108: 'EURAUD', 2: 'EURGBP', 4: 'EURJPY', 212: 'EURNZD', 1: 'EURUSD',\n",
    "                104: 'GBPAUD', 102: 'GBPCAD', 103: 'GBPCHF', 3: 'GBPJPY', 947: 'GBPNZD', 5: 'GBPUSD', 8: 'NZDUSD',\n",
    "                100: 'USDCAD', 72: 'USDCHF', 6: 'USDJPY', 168: 'USDNOK'}\n",
    "\n",
    "# fill the assets dict\n",
    "start = time.time()\n",
    "assets = fill_assets_dict(request_id_list, get_candles_list)\n",
    "dt3 = time.time() - start\n",
    "dt3/60"
   ]
  },
  {
   "cell_type": "code",
   "execution_count": null,
   "metadata": {},
   "outputs": [],
   "source": []
  },
  {
   "cell_type": "code",
   "execution_count": 32,
   "metadata": {},
   "outputs": [
    {
     "data": {
      "text/plain": [
       "dict_keys([6, 76, 1])"
      ]
     },
     "execution_count": 32,
     "metadata": {},
     "output_type": "execute_result"
    }
   ],
   "source": [
    "assets.keys()"
   ]
  },
  {
   "cell_type": "code",
   "execution_count": 27,
   "metadata": {},
   "outputs": [
    {
     "data": {
      "text/html": [
       "<div>\n",
       "<style scoped>\n",
       "    .dataframe tbody tr th:only-of-type {\n",
       "        vertical-align: middle;\n",
       "    }\n",
       "\n",
       "    .dataframe tbody tr th {\n",
       "        vertical-align: top;\n",
       "    }\n",
       "\n",
       "    .dataframe thead th {\n",
       "        text-align: right;\n",
       "    }\n",
       "</style>\n",
       "<table border=\"1\" class=\"dataframe\">\n",
       "  <thead>\n",
       "    <tr style=\"text-align: right;\">\n",
       "      <th></th>\n",
       "      <th></th>\n",
       "      <th>from</th>\n",
       "      <th>to</th>\n",
       "      <th>open</th>\n",
       "      <th>close</th>\n",
       "      <th>min</th>\n",
       "      <th>max</th>\n",
       "      <th>volume</th>\n",
       "    </tr>\n",
       "    <tr>\n",
       "      <th>size</th>\n",
       "      <th>id</th>\n",
       "      <th></th>\n",
       "      <th></th>\n",
       "      <th></th>\n",
       "      <th></th>\n",
       "      <th></th>\n",
       "      <th></th>\n",
       "      <th></th>\n",
       "    </tr>\n",
       "  </thead>\n",
       "  <tbody>\n",
       "    <tr>\n",
       "      <th rowspan=\"11\" valign=\"top\">30</th>\n",
       "      <th>2547643</th>\n",
       "      <td>1617235680</td>\n",
       "      <td>1617235710</td>\n",
       "      <td>1.17229</td>\n",
       "      <td>1.17235</td>\n",
       "      <td>1.17229</td>\n",
       "      <td>1.17239</td>\n",
       "      <td>10</td>\n",
       "    </tr>\n",
       "    <tr>\n",
       "      <th>2547644</th>\n",
       "      <td>1617235710</td>\n",
       "      <td>1617235740</td>\n",
       "      <td>1.17235</td>\n",
       "      <td>1.17251</td>\n",
       "      <td>1.17235</td>\n",
       "      <td>1.17251</td>\n",
       "      <td>15</td>\n",
       "    </tr>\n",
       "    <tr>\n",
       "      <th>2547645</th>\n",
       "      <td>1617235740</td>\n",
       "      <td>1617235770</td>\n",
       "      <td>1.17251</td>\n",
       "      <td>1.17239</td>\n",
       "      <td>1.17239</td>\n",
       "      <td>1.17251</td>\n",
       "      <td>16</td>\n",
       "    </tr>\n",
       "    <tr>\n",
       "      <th>2547646</th>\n",
       "      <td>1617235770</td>\n",
       "      <td>1617235800</td>\n",
       "      <td>1.17239</td>\n",
       "      <td>1.17243</td>\n",
       "      <td>1.17239</td>\n",
       "      <td>1.17244</td>\n",
       "      <td>10</td>\n",
       "    </tr>\n",
       "    <tr>\n",
       "      <th>2547647</th>\n",
       "      <td>1617235800</td>\n",
       "      <td>1617235830</td>\n",
       "      <td>1.17242</td>\n",
       "      <td>1.17245</td>\n",
       "      <td>1.17242</td>\n",
       "      <td>1.17248</td>\n",
       "      <td>12</td>\n",
       "    </tr>\n",
       "    <tr>\n",
       "      <th>...</th>\n",
       "      <td>...</td>\n",
       "      <td>...</td>\n",
       "      <td>...</td>\n",
       "      <td>...</td>\n",
       "      <td>...</td>\n",
       "      <td>...</td>\n",
       "      <td>...</td>\n",
       "    </tr>\n",
       "    <tr>\n",
       "      <th>2711400</th>\n",
       "      <td>1624049850</td>\n",
       "      <td>1624049880</td>\n",
       "      <td>1.18620</td>\n",
       "      <td>1.18630</td>\n",
       "      <td>1.18609</td>\n",
       "      <td>1.18630</td>\n",
       "      <td>68</td>\n",
       "    </tr>\n",
       "    <tr>\n",
       "      <th>2711401</th>\n",
       "      <td>1624049880</td>\n",
       "      <td>1624049910</td>\n",
       "      <td>1.18627</td>\n",
       "      <td>1.18642</td>\n",
       "      <td>1.18627</td>\n",
       "      <td>1.18643</td>\n",
       "      <td>30</td>\n",
       "    </tr>\n",
       "    <tr>\n",
       "      <th>2711402</th>\n",
       "      <td>1624049910</td>\n",
       "      <td>1624049940</td>\n",
       "      <td>1.18642</td>\n",
       "      <td>1.18641</td>\n",
       "      <td>1.18633</td>\n",
       "      <td>1.18645</td>\n",
       "      <td>50</td>\n",
       "    </tr>\n",
       "    <tr>\n",
       "      <th>2711403</th>\n",
       "      <td>1624049940</td>\n",
       "      <td>1624049970</td>\n",
       "      <td>1.18642</td>\n",
       "      <td>1.18636</td>\n",
       "      <td>1.18632</td>\n",
       "      <td>1.18651</td>\n",
       "      <td>120</td>\n",
       "    </tr>\n",
       "    <tr>\n",
       "      <th>2711404</th>\n",
       "      <td>1624049970</td>\n",
       "      <td>1624050000</td>\n",
       "      <td>1.18635</td>\n",
       "      <td>1.18638</td>\n",
       "      <td>1.18633</td>\n",
       "      <td>1.18656</td>\n",
       "      <td>68</td>\n",
       "    </tr>\n",
       "  </tbody>\n",
       "</table>\n",
       "<p>163762 rows × 7 columns</p>\n",
       "</div>"
      ],
      "text/plain": [
       "                    from          to     open    close      min      max  \\\n",
       "size id                                                                    \n",
       "30   2547643  1617235680  1617235710  1.17229  1.17235  1.17229  1.17239   \n",
       "     2547644  1617235710  1617235740  1.17235  1.17251  1.17235  1.17251   \n",
       "     2547645  1617235740  1617235770  1.17251  1.17239  1.17239  1.17251   \n",
       "     2547646  1617235770  1617235800  1.17239  1.17243  1.17239  1.17244   \n",
       "     2547647  1617235800  1617235830  1.17242  1.17245  1.17242  1.17248   \n",
       "...                  ...         ...      ...      ...      ...      ...   \n",
       "     2711400  1624049850  1624049880  1.18620  1.18630  1.18609  1.18630   \n",
       "     2711401  1624049880  1624049910  1.18627  1.18642  1.18627  1.18643   \n",
       "     2711402  1624049910  1624049940  1.18642  1.18641  1.18633  1.18645   \n",
       "     2711403  1624049940  1624049970  1.18642  1.18636  1.18632  1.18651   \n",
       "     2711404  1624049970  1624050000  1.18635  1.18638  1.18633  1.18656   \n",
       "\n",
       "              volume  \n",
       "size id               \n",
       "30   2547643      10  \n",
       "     2547644      15  \n",
       "     2547645      16  \n",
       "     2547646      10  \n",
       "     2547647      12  \n",
       "...              ...  \n",
       "     2711400      68  \n",
       "     2711401      30  \n",
       "     2711402      50  \n",
       "     2711403     120  \n",
       "     2711404      68  \n",
       "\n",
       "[163762 rows x 7 columns]"
      ]
     },
     "execution_count": 27,
     "metadata": {},
     "output_type": "execute_result"
    }
   ],
   "source": [
    "assets[1]['data']"
   ]
  },
  {
   "cell_type": "code",
   "execution_count": null,
   "metadata": {},
   "outputs": [],
   "source": []
  },
  {
   "cell_type": "code",
   "execution_count": null,
   "metadata": {},
   "outputs": [],
   "source": []
  },
  {
   "cell_type": "code",
   "execution_count": null,
   "metadata": {},
   "outputs": [],
   "source": []
  },
  {
   "cell_type": "code",
   "execution_count": null,
   "metadata": {},
   "outputs": [],
   "source": []
  }
 ],
 "metadata": {
  "kernelspec": {
   "display_name": "Python 3",
   "language": "python",
   "name": "python3"
  },
  "language_info": {
   "codemirror_mode": {
    "name": "ipython",
    "version": 3
   },
   "file_extension": ".py",
   "mimetype": "text/x-python",
   "name": "python",
   "nbconvert_exporter": "python",
   "pygments_lexer": "ipython3",
   "version": "3.7.4"
  }
 },
 "nbformat": 4,
 "nbformat_minor": 2
}
